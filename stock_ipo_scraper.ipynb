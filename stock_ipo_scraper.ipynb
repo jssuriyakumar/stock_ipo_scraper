{
  "nbformat": 4,
  "nbformat_minor": 0,
  "metadata": {
    "colab": {
      "name": "stock_ipo_scraper.ipynb",
      "provenance": [],
      "authorship_tag": "ABX9TyNxEEClIPUKodUrlkSbOBh1",
      "include_colab_link": true
    },
    "kernelspec": {
      "name": "python3",
      "display_name": "Python 3"
    },
    "language_info": {
      "name": "python"
    }
  },
  "cells": [
    {
      "cell_type": "markdown",
      "metadata": {
        "id": "view-in-github",
        "colab_type": "text"
      },
      "source": [
        "<a href=\"https://colab.research.google.com/github/jssuriyakumar/stock_ipo_scraper/blob/main/stock_ipo_scraper.ipynb\" target=\"_parent\"><img src=\"https://colab.research.google.com/assets/colab-badge.svg\" alt=\"Open In Colab\"/></a>"
      ]
    },
    {
      "cell_type": "code",
      "source": [
        "pip install scrapy"
      ],
      "metadata": {
        "id": "1uYcVjTLd3Au"
      },
      "execution_count": 4,
      "outputs": []
    },
    {
      "cell_type": "code",
      "execution_count": 4,
      "metadata": {
        "colab": {
          "base_uri": "https://localhost:8080/"
        },
        "id": "aKo6z8Z1dCbk",
        "outputId": "068e6c24-d084-48ea-cadf-2b0c0981e634"
      },
      "outputs": [
        {
          "output_type": "stream",
          "name": "stderr",
          "text": [
            "2021-12-23 08:47:59 [scrapy.utils.log] INFO: Scrapy 2.5.1 started (bot: scrapybot)\n",
            "2021-12-23 08:47:59 [scrapy.utils.log] INFO: Versions: lxml 4.2.6.0, libxml2 2.9.8, cssselect 1.1.0, parsel 1.6.0, w3lib 1.22.0, Twisted 21.7.0, Python 3.7.12 (default, Sep 10 2021, 00:21:48) - [GCC 7.5.0], pyOpenSSL 21.0.0 (OpenSSL 1.1.1m  14 Dec 2021), cryptography 36.0.1, Platform Linux-5.4.144+-x86_64-with-Ubuntu-18.04-bionic\n",
            "2021-12-23 08:47:59 [scrapy.utils.log] DEBUG: Using reactor: twisted.internet.epollreactor.EPollReactor\n",
            "2021-12-23 08:47:59 [scrapy.crawler] INFO: Overridden settings:\n",
            "{}\n",
            "2021-12-23 08:47:59 [scrapy.extensions.telnet] INFO: Telnet Password: 49197986ff9d2abb\n",
            "2021-12-23 08:47:59 [scrapy.middleware] INFO: Enabled extensions:\n",
            "['scrapy.extensions.corestats.CoreStats',\n",
            " 'scrapy.extensions.telnet.TelnetConsole',\n",
            " 'scrapy.extensions.memusage.MemoryUsage',\n",
            " 'scrapy.extensions.feedexport.FeedExporter',\n",
            " 'scrapy.extensions.logstats.LogStats']\n",
            "2021-12-23 08:47:59 [scrapy.middleware] INFO: Enabled downloader middlewares:\n",
            "['scrapy.downloadermiddlewares.httpauth.HttpAuthMiddleware',\n",
            " 'scrapy.downloadermiddlewares.downloadtimeout.DownloadTimeoutMiddleware',\n",
            " 'scrapy.downloadermiddlewares.defaultheaders.DefaultHeadersMiddleware',\n",
            " 'scrapy.downloadermiddlewares.useragent.UserAgentMiddleware',\n",
            " 'scrapy.downloadermiddlewares.retry.RetryMiddleware',\n",
            " 'scrapy.downloadermiddlewares.redirect.MetaRefreshMiddleware',\n",
            " 'scrapy.downloadermiddlewares.httpcompression.HttpCompressionMiddleware',\n",
            " 'scrapy.downloadermiddlewares.redirect.RedirectMiddleware',\n",
            " 'scrapy.downloadermiddlewares.cookies.CookiesMiddleware',\n",
            " 'scrapy.downloadermiddlewares.httpproxy.HttpProxyMiddleware',\n",
            " 'scrapy.downloadermiddlewares.stats.DownloaderStats']\n",
            "2021-12-23 08:47:59 [scrapy.middleware] INFO: Enabled spider middlewares:\n",
            "['scrapy.spidermiddlewares.httperror.HttpErrorMiddleware',\n",
            " 'scrapy.spidermiddlewares.offsite.OffsiteMiddleware',\n",
            " 'scrapy.spidermiddlewares.referer.RefererMiddleware',\n",
            " 'scrapy.spidermiddlewares.urllength.UrlLengthMiddleware',\n",
            " 'scrapy.spidermiddlewares.depth.DepthMiddleware']\n",
            "2021-12-23 08:47:59 [scrapy.middleware] INFO: Enabled item pipelines:\n",
            "[]\n",
            "2021-12-23 08:47:59 [scrapy.core.engine] INFO: Spider opened\n",
            "2021-12-23 08:47:59 [scrapy.extensions.logstats] INFO: Crawled 0 pages (at 0 pages/min), scraped 0 items (at 0 items/min)\n",
            "2021-12-23 08:47:59 [scrapy.extensions.telnet] INFO: Telnet console listening on 127.0.0.1:6023\n",
            "2021-12-23 08:48:05 [scrapy.core.engine] DEBUG: Crawled (200) <GET https://www.moneycontrol.com/ipo/ipo-historic-table> (referer: None)\n",
            "2021-12-23 08:48:05 [scrapy.core.engine] INFO: Closing spider (finished)\n",
            "2021-12-23 08:48:05 [scrapy.statscollectors] INFO: Dumping Scrapy stats:\n",
            "{'downloader/request_bytes': 242,\n",
            " 'downloader/request_count': 1,\n",
            " 'downloader/request_method_count/GET': 1,\n",
            " 'downloader/response_bytes': 149151,\n",
            " 'downloader/response_count': 1,\n",
            " 'downloader/response_status_count/200': 1,\n",
            " 'elapsed_time_seconds': 6.09252,\n",
            " 'finish_reason': 'finished',\n",
            " 'finish_time': datetime.datetime(2021, 12, 23, 8, 48, 5, 892665),\n",
            " 'httpcompression/response_bytes': 596760,\n",
            " 'httpcompression/response_count': 1,\n",
            " 'log_count/DEBUG': 1,\n",
            " 'log_count/INFO': 10,\n",
            " 'memusage/max': 153001984,\n",
            " 'memusage/startup': 153001984,\n",
            " 'response_received_count': 1,\n",
            " 'scheduler/dequeued': 1,\n",
            " 'scheduler/dequeued/memory': 1,\n",
            " 'scheduler/enqueued': 1,\n",
            " 'scheduler/enqueued/memory': 1,\n",
            " 'start_time': datetime.datetime(2021, 12, 23, 8, 47, 59, 800145)}\n",
            "2021-12-23 08:48:05 [scrapy.core.engine] INFO: Spider closed (finished)\n"
          ]
        }
      ],
      "source": [
        "# import the necessary packages\n",
        "import scrapy\n",
        "import pandas as pd\n",
        "from datetime import datetime\n",
        "from scrapy.crawler import CrawlerProcess\n",
        "\n",
        "\n",
        "\n",
        "# create a class with name of the Spider and inherit scrapy.Spider\n",
        "class StockIpoQuotes(scrapy.Spider):\n",
        "    # specify the name of the spider, this is used to run the code\n",
        "    name = \"ipo_quotes\"\n",
        "    # url to scrape\n",
        "    start_urls = [\n",
        "                    'https://www.moneycontrol.com/ipo/ipo-historic-table',\n",
        "                 ]\n",
        "\n",
        "    def parse(self, response):\n",
        "        # save the scraped page as html file\n",
        "        filename_html = 'ipo_quotes.html'\n",
        "        with open(filename_html, 'wb') as h:\n",
        "            h.write(response.body)\n",
        "        # use xpath/css selector elements and inspect the corresponding page to scrape by id of the elements\n",
        "        table = response.xpath('//*[@id=\"mytable\"]')\n",
        "        i=0\n",
        "        # drill down to table elements\n",
        "        row = table.xpath('//tr')\n",
        "        # extract the text og the rows\n",
        "        raw_data = row.xpath('td//text()').extract()\n",
        "        # split the list sequentially\n",
        "        idx = [i for i, v in enumerate(raw_data) if len(str(v)) == 8 and '-' in v]\n",
        "        result = [raw_data[i:j] for i, j in zip(idx, idx[1:])]\n",
        "        # scrap the column names\n",
        "        head = table.xpath('//thead')\n",
        "        cols = [i for i in head.xpath('tr//text()').extract() if '\\r\\n\\t' not in i and '\\xa0' not in i]\n",
        "        # store in a dataframe\n",
        "        ipo_data = pd.DataFrame(result)\n",
        "        ipo_data.columns = cols[3:]\n",
        "        ipo_data.to_csv('ipo_data.csv', index=False)\n",
        "    \n",
        "\n",
        "process = CrawlerProcess(settings={\"FEEDS\": {\"items.json\": {\"format\": \"json\"},},})\n",
        "\n",
        "\n",
        "process.crawl(StockIpoQuotes)\n",
        "process.start()\n"
      ]
    }
  ]
}